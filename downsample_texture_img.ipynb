{
 "cells": [
  {
   "cell_type": "code",
   "execution_count": 1,
   "metadata": {},
   "outputs": [
    {
     "name": "stdout",
     "output_type": "stream",
     "text": [
      "/home/giakhang/dev/SCFlow\n"
     ]
    }
   ],
   "source": [
    "!pwd"
   ]
  },
  {
   "cell_type": "code",
   "execution_count": 1,
   "metadata": {},
   "outputs": [],
   "source": [
    "import os \n",
    "import sys\n",
    "from pathlib import Path\n",
    "import glob\n",
    "import cv2\n",
    "import shutil"
   ]
  },
  {
   "cell_type": "code",
   "execution_count": 2,
   "metadata": {},
   "outputs": [],
   "source": [
    "models_1024_dir = Path(\"./data/lumi_piano_dataset/models_1080\")\n",
    "models_1024_dir.mkdir(parents=True, exist_ok=True)"
   ]
  },
  {
   "cell_type": "code",
   "execution_count": 3,
   "metadata": {},
   "outputs": [],
   "source": [
    "models_dir = Path(\"./data/lumi_piano_dataset/models\")\n",
    "model_files = glob.glob(str(models_dir / \"*\"))\n",
    "\n",
    "file_name = f\"obj_{1:05d}\"\n",
    "for f in model_files:\n",
    "    ext = os.path.basename(f).split(\".\")[-1]\n",
    "    if not (os.path.basename(f).endswith(\"png\") or os.path.basename(f).endswith(\"jpg\")):\n",
    "        shutil.copy(f, str(models_1024_dir / os.path.basename(f)))\n",
    "    else:\n",
    "        texture = cv2.imread(f)  \n",
    "        h, w, _ = texture.shape\n",
    "        new_h = h // 2\n",
    "        new_w = w // 2\n",
    "        resized_texture = cv2.resize(texture, (new_w, new_h), interpolation=cv2.INTER_AREA)\n",
    "        cv2.imwrite(str(models_1024_dir / os.path.basename(f)), resized_texture)\n"
   ]
  },
  {
   "cell_type": "code",
   "execution_count": null,
   "metadata": {},
   "outputs": [],
   "source": []
  },
  {
   "cell_type": "code",
   "execution_count": null,
   "metadata": {},
   "outputs": [],
   "source": []
  },
  {
   "cell_type": "code",
   "execution_count": null,
   "metadata": {},
   "outputs": [],
   "source": []
  },
  {
   "cell_type": "code",
   "execution_count": null,
   "metadata": {},
   "outputs": [],
   "source": []
  },
  {
   "cell_type": "code",
   "execution_count": null,
   "metadata": {},
   "outputs": [],
   "source": []
  }
 ],
 "metadata": {
  "kernelspec": {
   "display_name": "scflow",
   "language": "python",
   "name": "python3"
  },
  "language_info": {
   "codemirror_mode": {
    "name": "ipython",
    "version": 3
   },
   "file_extension": ".py",
   "mimetype": "text/x-python",
   "name": "python",
   "nbconvert_exporter": "python",
   "pygments_lexer": "ipython3",
   "version": "3.10.16"
  }
 },
 "nbformat": 4,
 "nbformat_minor": 2
}
