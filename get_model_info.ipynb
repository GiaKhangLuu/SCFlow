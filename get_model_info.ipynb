{
 "cells": [
  {
   "cell_type": "code",
   "execution_count": 1,
   "metadata": {},
   "outputs": [],
   "source": [
    "import trimesh\n",
    "import numpy as np\n",
    "from scipy.spatial.distance import pdist\n",
    "import os.path as osp\n",
    "import glob\n",
    "from pathlib import Path\n",
    "import json\n",
    "import cv2\n",
    "import matplotlib.pyplot as plt\n",
    "import shutil\n",
    "import os\n",
    "import trimesh\n",
    "import imageio\n",
    "import random\n",
    "from scipy.spatial.transform import Rotation as R"
   ]
  },
  {
   "cell_type": "code",
   "execution_count": 2,
   "metadata": {},
   "outputs": [],
   "source": [
    "def get_model_info(file_path):\n",
    "    mesh = trimesh.load(file_path)\n",
    "\n",
    "    # Get bounding box extents\n",
    "    min_bounds = mesh.bounds[0]\n",
    "    max_bounds = mesh.bounds[1]\n",
    "    \n",
    "    size_x, size_y, size_z = max_bounds - min_bounds\n",
    "    min_x, min_y, min_z = min_bounds\n",
    "\n",
    "    # Compute diameter as the max pairwise Euclidean distance between vertices\n",
    "    vertices = mesh.vertices\n",
    "    diameter = np.max(pdist(vertices))  # Computes all pairwise distances\n",
    "\n",
    "    return {\n",
    "        \"diameter\": float(round(diameter, 6)),\n",
    "        \"min_x\": float(round(min_x, 6)),\n",
    "        \"min_y\": float(round(min_y, 6)),\n",
    "        \"min_z\": float(round(min_z, 6)),\n",
    "        \"size_x\": float(round(size_x, 6)),\n",
    "        \"size_y\": float(round(size_y, 6)),\n",
    "        \"size_z\": float(round(size_z, 6))\n",
    "    }"
   ]
  },
  {
   "cell_type": "code",
   "execution_count": 3,
   "metadata": {},
   "outputs": [
    {
     "name": "stdout",
     "output_type": "stream",
     "text": [
      "/home/giakhang/dev/SCFlow/data/lumi_piano_dataset/models_1080_mm/LUMI.obj\n"
     ]
    }
   ],
   "source": [
    "model_files = [\"/home/giakhang/dev/SCFlow/data/lumi_piano_dataset/models_1080_mm/LUMI.obj\"]\n",
    "\n",
    "des_dir = Path(\"/home/giakhang/dev/SCFlow/data/lumi_piano_dataset/models_1080_mm\")\n",
    "\n",
    "models_info = dict()\n",
    "for i, f in enumerate(model_files):\n",
    "    print(f)\n",
    "    # unit: meters (m)\n",
    "    info = get_model_info(str(f))\n",
    "    models_info[str(i+1)] = info\n",
    "\n",
    "file_name = \"models_info.json\"\n",
    "with open(des_dir / file_name, \"w\") as f:\n",
    "    json.dump(models_info, f)"
   ]
  },
  {
   "cell_type": "code",
   "execution_count": 4,
   "metadata": {},
   "outputs": [],
   "source": [
    "!ln -s /home/giakhang/dev/SCFlow/data/lumi_piano_dataset/models_1080_mm ./data/lumi_piano_dataset/models_1080_mm_eval"
   ]
  },
  {
   "cell_type": "code",
   "execution_count": null,
   "metadata": {},
   "outputs": [],
   "source": []
  }
 ],
 "metadata": {
  "kernelspec": {
   "display_name": "scflow",
   "language": "python",
   "name": "python3"
  },
  "language_info": {
   "codemirror_mode": {
    "name": "ipython",
    "version": 3
   },
   "file_extension": ".py",
   "mimetype": "text/x-python",
   "name": "python",
   "nbconvert_exporter": "python",
   "pygments_lexer": "ipython3",
   "version": "3.10.16"
  }
 },
 "nbformat": 4,
 "nbformat_minor": 2
}
