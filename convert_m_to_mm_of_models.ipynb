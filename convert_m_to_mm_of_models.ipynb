{
 "cells": [
  {
   "cell_type": "code",
   "execution_count": 1,
   "metadata": {},
   "outputs": [
    {
     "name": "stdout",
     "output_type": "stream",
     "text": [
      "/home/giakhang/dev/SCFlow\n"
     ]
    }
   ],
   "source": [
    "!pwd"
   ]
  },
  {
   "cell_type": "code",
   "execution_count": 5,
   "metadata": {},
   "outputs": [],
   "source": [
    "import trimesh\n",
    "import os"
   ]
  },
  {
   "cell_type": "code",
   "execution_count": 6,
   "metadata": {},
   "outputs": [
    {
     "name": "stdout",
     "output_type": "stream",
     "text": [
      "Converted model saved to: /home/giakhang/dev/SCFlow/data/lumi_piano_dataset/models_mm/LUMI.obj\n"
     ]
    }
   ],
   "source": [
    "def convert_to_millimeters(input_path, output_path):\n",
    "    \"\"\"Converts a 3D model from meters to millimeters.\"\"\"\n",
    "    output_dir = \"/\".join(output_path.split(\"/\")[:-1])\n",
    "    if not os.path.exists(output_dir):\n",
    "        os.makedirs(output_dir)\n",
    "\n",
    "    mesh = trimesh.load(input_path)\n",
    "    mesh.apply_scale(1000)\n",
    "    mesh.export(output_path)\n",
    "\n",
    "    print(f\"Converted model saved to: {output_path}\")\n",
    "\n",
    "# Example usage\n",
    "input_file = \"/home/giakhang/dev/SCFlow/data/lumi_piano_dataset/models_1080/LUMI.obj\"  \n",
    "output_file = \"/home/giakhang/dev/SCFlow/data/lumi_piano_dataset/models_mm/LUMI.obj\"    \n",
    "convert_to_millimeters(input_file, output_file)"
   ]
  },
  {
   "cell_type": "code",
   "execution_count": null,
   "metadata": {},
   "outputs": [],
   "source": []
  }
 ],
 "metadata": {
  "kernelspec": {
   "display_name": "scflow",
   "language": "python",
   "name": "python3"
  },
  "language_info": {
   "codemirror_mode": {
    "name": "ipython",
    "version": 3
   },
   "file_extension": ".py",
   "mimetype": "text/x-python",
   "name": "python",
   "nbconvert_exporter": "python",
   "pygments_lexer": "ipython3",
   "version": "3.10.16"
  }
 },
 "nbformat": 4,
 "nbformat_minor": 2
}
